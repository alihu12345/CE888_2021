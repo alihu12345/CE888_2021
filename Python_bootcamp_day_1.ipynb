{
  "nbformat": 4,
  "nbformat_minor": 0,
  "metadata": {
    "colab": {
      "name": "Python bootcamp day 1.ipynb",
      "provenance": [],
      "authorship_tag": "ABX9TyMXGtqGZpNdPLnn7FNMpYsE",
      "include_colab_link": true
    },
    "kernelspec": {
      "name": "python3",
      "display_name": "Python 3"
    },
    "language_info": {
      "name": "python"
    }
  },
  "cells": [
    {
      "cell_type": "markdown",
      "metadata": {
        "id": "view-in-github",
        "colab_type": "text"
      },
      "source": [
        "<a href=\"https://colab.research.google.com/github/alihu12345/CE888_2021/blob/main/Python_bootcamp_day_1.ipynb\" target=\"_parent\"><img src=\"https://colab.research.google.com/assets/colab-badge.svg\" alt=\"Open In Colab\"/></a>"
      ]
    },
    {
      "cell_type": "markdown",
      "metadata": {
        "id": "mi3kVyrMfuqo"
      },
      "source": [
        "#Data science Boot Camp\n",
        "###Day 1\n",
        "#####introduction\n"
      ]
    },
    {
      "cell_type": "code",
      "metadata": {
        "colab": {
          "base_uri": "https://localhost:8080/"
        },
        "id": "6HvTVSfUdtV6",
        "outputId": "bb7a74aa-93fa-45f4-e3fe-fc1515681cf6"
      },
      "source": [
        "print(\"Hello World\")"
      ],
      "execution_count": 1,
      "outputs": [
        {
          "output_type": "stream",
          "name": "stdout",
          "text": [
            "Hello World\n"
          ]
        }
      ]
    },
    {
      "cell_type": "code",
      "metadata": {
        "colab": {
          "base_uri": "https://localhost:8080/"
        },
        "id": "MZleet3_fIBG",
        "outputId": "4c20bdaa-e260-400f-d78e-ec0b6bf1144d"
      },
      "source": [
        "print (\"data science\")\n"
      ],
      "execution_count": 3,
      "outputs": [
        {
          "output_type": "stream",
          "name": "stdout",
          "text": [
            "data science\n"
          ]
        }
      ]
    }
  ]
}